{
  "nbformat": 4,
  "nbformat_minor": 0,
  "metadata": {
    "colab": {
      "provenance": [],
      "authorship_tag": "ABX9TyOya4dt+Ug7u2yUyuHzZRIf",
      "include_colab_link": true
    },
    "kernelspec": {
      "name": "python3",
      "display_name": "Python 3"
    },
    "language_info": {
      "name": "python"
    }
  },
  "cells": [
    {
      "cell_type": "markdown",
      "metadata": {
        "id": "view-in-github",
        "colab_type": "text"
      },
      "source": [
        "<a href=\"https://colab.research.google.com/github/debjit915/Gesture_Controlled_Mecanum_Wheel_/blob/main/house_pricing.ipynb\" target=\"_parent\"><img src=\"https://colab.research.google.com/assets/colab-badge.svg\" alt=\"Open In Colab\"/></a>"
      ]
    },
    {
      "cell_type": "code",
      "execution_count": null,
      "metadata": {
        "colab": {
          "base_uri": "https://localhost:8080/"
        },
        "id": "WcYauu34BgqA",
        "outputId": "bc97bfda-8926-4bda-f3f6-ad121750921a"
      },
      "outputs": [
        {
          "output_type": "stream",
          "name": "stdout",
          "text": [
            "Scikit-learn Model:\n",
            "Mean Squared Error (Scikit-learn): 0.5558915986952444\n"
          ]
        }
      ],
      "source": [
        "# Import necessary libraries\n",
        "import numpy as np\n",
        "import pandas as pd\n",
        "from sklearn.model_selection import train_test_split\n",
        "from sklearn.linear_model import LinearRegression\n",
        "from sklearn.metrics import mean_squared_error\n",
        "import matplotlib.pyplot as plt\n",
        "import tensorflow as tf\n",
        "from tensorflow.keras.models import Sequential\n",
        "from tensorflow.keras.layers import Dense\n",
        "\n",
        "# Load the California Housing dataset\n",
        "from sklearn.datasets import fetch_california_housing\n",
        "california_housing = fetch_california_housing()\n",
        "data = pd.DataFrame(california_housing.data, columns=california_housing.feature_names)\n",
        "data['PRICE'] = california_housing.target  # Median house value is the target variable\n",
        "\n",
        "# Split the dataset into features and target variable\n",
        "X = data.drop('PRICE', axis=1)\n",
        "y = data['PRICE']\n",
        "\n",
        "# Split the data into training and testing sets\n",
        "X_train, X_test, y_train, y_test = train_test_split(X, y, test_size=0.2, random_state=42)\n",
        "\n",
        "# Initialize the Linear Regression model using scikit-learn\n",
        "linear_model = LinearRegression()\n",
        "\n",
        "# Train the scikit-learn Linear Regression model\n",
        "linear_model.fit(X_train, y_train)\n",
        "\n",
        "# Make predictions using the scikit-learn model\n",
        "linear_predictions = linear_model.predict(X_test)\n",
        "\n",
        "# Evaluate the scikit-learn model\n",
        "linear_mse = mean_squared_error(y_test, linear_predictions)\n",
        "print('Scikit-learn Model:')\n",
        "print('Mean Squared Error (Scikit-learn):', linear_mse)\n",
        "\n",
        "# Plot training and testing model performance graph\n",
        "plt.figure(figsize=(10, 5))\n",
        "plt.subplot(1, 2, 1)\n",
        "plt.plot(y_test, linear_predictions, 'o')\n",
        "plt.xlabel('Actual Prices')\n",
        "plt.ylabel('Predicted Prices')\n",
        "plt.title('Scikit-learn Model: Actual vs Predicted Prices')\n",
        "\n",
        "# Define the neural network model using TensorFlow\n",
        "model = Sequential([\n",
        "    Dense(64, activation='relu', input_shape=[X_train.shape[1]]),\n",
        "    Dense(64, activation='relu'),\n",
        "    Dense(1)\n",
        "])\n",
        "\n",
        "# Compile the TensorFlow model\n",
        "model.compile(optimizer='adam', loss='mean_squared_error')\n",
        "\n",
        "# Train the TensorFlow model\n",
        "history = model.fit(X_train, y_train, epochs=100, batch_size=32, validation_split=0.2, verbose=0)\n",
        "\n",
        "# Plot training and validation loss\n",
        "plt.subplot(1, 2, 2)\n",
        "plt.plot(history.history['loss'], label='Training Loss')\n",
        "plt.plot(history.history['val_loss'], label='Validation Loss')\n",
        "plt.xlabel('Epochs')\n",
        "plt.ylabel('Loss')\n",
        "plt.title('TensorFlow Model: Training and Validation Loss')\n",
        "plt.legend()\n",
        "\n",
        "# Evaluate the TensorFlow model\n",
        "tf_mse = model.evaluate(X_test, y_test)\n",
        "print('\\nTensorFlow Model:')\n",
        "print('Mean Squared Error (TensorFlow):', tf_mse)\n",
        "\n",
        "# Make predictions using the TensorFlow model\n",
        "tf_predictions = model.predict(X_test)\n",
        "\n",
        "# Plot actual vs predicted prices for TensorFlow model\n",
        "plt.figure(figsize=(10, 5))\n",
        "plt.plot(y_test, tf_predictions, 'o')\n",
        "plt.xlabel('Actual Prices')\n",
        "plt.ylabel('Predicted Prices')\n",
        "plt.title('TensorFlow Model: Actual vs Predicted Prices')\n",
        "plt.show()\n"
      ]
    }
  ]
}